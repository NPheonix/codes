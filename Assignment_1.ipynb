{
  "nbformat": 4,
  "nbformat_minor": 0,
  "metadata": {
    "colab": {
      "provenance": [],
      "collapsed_sections": []
    },
    "kernelspec": {
      "name": "python3",
      "display_name": "Python 3"
    },
    "language_info": {
      "name": "python"
    }
  },
  "cells": [
    {
      "cell_type": "markdown",
      "source": [
        "Q1. **Find out all the types of error that we have encountered in our lecture and why? Also include the examples.**"
      ],
      "metadata": {
        "id": "DVCIvb_KLPnc"
      }
    },
    {
      "cell_type": "markdown",
      "source": [
        "Actually I haven't received any error in writing the code, just I am facing a problem in calling the variables in the print statment like I forgot to use brackets like parenthesis but I will overcome this with more and more practice.\n"
      ],
      "metadata": {
        "id": "pz0S2df6LXHu"
      }
    },
    {
      "cell_type": "markdown",
      "source": [
        "Q2. Take input A and B and print their sum, mul, div, square of the nos."
      ],
      "metadata": {
        "id": "crfYAY8W_R5r"
      }
    },
    {
      "cell_type": "code",
      "execution_count": 22,
      "metadata": {
        "colab": {
          "base_uri": "https://localhost:8080/"
        },
        "id": "0CVrJx-47m7Y",
        "outputId": "e1e909e8-61f5-4977-8a73-29846e4c9228"
      },
      "outputs": [
        {
          "output_type": "stream",
          "name": "stdout",
          "text": [
            "Input the value of a :46\n",
            "Input the value of b :23\n",
            "The sum of a nd b is : 69\n",
            "The product of a nd b is : 1058\n",
            "The division of a nd b is : 2.0\n",
            "The square's of a nd b are : (2116, 529)\n"
          ]
        }
      ],
      "source": [
        "#code for taking input from the user to perform different arthemetical operations. \n",
        "a = int(input(\"Input the value of a :\"))\n",
        "b = int(input(\"Input the value of b :\"))\n",
        "c,d,e,f = a+b,a*b,a/b,(a*a,b*b)\n",
        "print (f\"The sum of a nd b is : {c}\")\n",
        "print (f\"The product of a nd b is : {d}\")\n",
        "print (f\"The division of a nd b is : {e}\")\n",
        "print (f\"The square's of a nd b are : {f}\")"
      ]
    },
    {
      "cell_type": "markdown",
      "source": [
        "Q3. **How many reserve keywords are there in python and why we should not use them as a variable name.**"
      ],
      "metadata": {
        "id": "y-aL2Ss2ABXO"
      }
    },
    {
      "cell_type": "markdown",
      "source": [
        "There are 31 reserve keywords in the python language. We should not have use the reserve keywords as the variable name becuase keywords are the reserved words that have the special meaning for the Python Interpretor. They are used to define the synatx and structure of the Python language.  "
      ],
      "metadata": {
        "id": "WbP9JyrPBsl-"
      }
    },
    {
      "cell_type": "markdown",
      "source": [
        "Q4. **Create email ids with the user inputs. in the following format - lastname.firstname@gmail.com**"
      ],
      "metadata": {
        "id": "Abdu-UYUC9XZ"
      }
    },
    {
      "cell_type": "code",
      "source": [
        "last_name_of_the_user = input (\"The last name of the user is : \")\n",
        "first_name_of_the_user = input (\"The first name of the user is : \")\n",
        "print (f\"The email id of the user is {last_name_of_the_user}.{first_name_of_the_user}@gmail.com\")"
      ],
      "metadata": {
        "colab": {
          "base_uri": "https://localhost:8080/"
        },
        "id": "SHUkdxZzAbAX",
        "outputId": "14f28745-724e-42ab-aec8-d094fce5b47b"
      },
      "execution_count": 12,
      "outputs": [
        {
          "output_type": "stream",
          "name": "stdout",
          "text": [
            "The last name of the user is : Sharma\n",
            "The first name of the user is : Nitin\n",
            "The email id of the user is Sharma.Nitin@gmail.com\n"
          ]
        }
      ]
    },
    {
      "cell_type": "markdown",
      "source": [
        "Q5. **Try to print the following lines -\n",
        "Hi I'm Sunny\n",
        "My address is 22\\3\n",
        "I earn 20$ daily.**"
      ],
      "metadata": {
        "id": "lXBm8ErIEo0c"
      }
    },
    {
      "cell_type": "code",
      "source": [
        "name = input(\"Your name is : \")\n",
        "address = input(\"Your address is : \")\n",
        "Your_daily_income = input(\"Your daily income is : \")\n",
        "print(f\"\"\" Hi my name is {name}!\n",
        "My address is : {address}\n",
        "My daily income is : {Your_daily_income}\"\"\")\n"
      ],
      "metadata": {
        "colab": {
          "base_uri": "https://localhost:8080/"
        },
        "id": "o9oIzUdvE9gT",
        "outputId": "7f8b5a3d-bc83-4a7e-c546-5142a4176782"
      },
      "execution_count": 15,
      "outputs": [
        {
          "output_type": "stream",
          "name": "stdout",
          "text": [
            "Your name is : Nitin\n",
            "Your address is : Delhi\n",
            "Your daily income is : $25\n",
            " Hi my name is Nitin!\n",
            "My address is : Delhi\n",
            "My daily income is : $25\n"
          ]
        }
      ]
    },
    {
      "cell_type": "markdown",
      "source": [
        "Q6. **Take user input (name, address, date of birth etc) to fill a form for your college and print their email IDs**"
      ],
      "metadata": {
        "id": "FFaGZXZ7GVzF"
      }
    },
    {
      "cell_type": "code",
      "source": [
        "first_name_of_the_user = input (\"The first name of the user is : \")\n",
        "last_name_of_the_user = input (\"The last name of the user is : \")\n",
        "address = input(\"Your address is : \")\n",
        "your_date_of_birth = input(\" Your D.O.B is : \")\n",
        "\n",
        "print (f\"\"\" *** Check your college form details ***\n",
        "Name of the Student : {first_name_of_the_user} {last_name_of_the_user}\n",
        "Address of the Student : {address}\n",
        "Date of Birth : {your_date_of_birth}\n",
        "Student email id : {last_name_of_the_user}.{first_name_of_the_user}@gmail.com\"\"\")"
      ],
      "metadata": {
        "colab": {
          "base_uri": "https://localhost:8080/"
        },
        "id": "AD9cnVDqGemr",
        "outputId": "ef8ef5e3-3f1e-4ad2-9e4e-3b68f4468ebb"
      },
      "execution_count": 19,
      "outputs": [
        {
          "output_type": "stream",
          "name": "stdout",
          "text": [
            "The first name of the user is : Nitin\n",
            "The last name of the user is : Sharma\n",
            "Your address is : New Delhi\n",
            " Your D.O.B is : 26-06-2000\n",
            " *** Check your college form details ***\n",
            "Name of the Student : Nitin Sharma\n",
            "Address of the Student : New Delhi\n",
            "Date of Birth : 26-06-2000\n",
            "Student email id : Sharma.Nitin@gmail.com\n"
          ]
        }
      ]
    },
    {
      "cell_type": "markdown",
      "source": [
        "Q7. **Convert the following -\n",
        "\"22.4\" into integer\n",
        "\"22\" into complex no.**"
      ],
      "metadata": {
        "id": "C9-WwhikI3sC"
      }
    },
    {
      "cell_type": "code",
      "source": [
        "# float to integer\n",
        "a  = 22.4\n",
        "print (f\"data type before : {type(a)}, value of a : {a}\")\n",
        "a = int(a)\n",
        "print (f\"data type after : {type(a)}, value of a : {a}\")"
      ],
      "metadata": {
        "colab": {
          "base_uri": "https://localhost:8080/"
        },
        "id": "x6vrprzvJUS-",
        "outputId": "396063ca-a0cf-4904-9ab1-b4ed8ec05885"
      },
      "execution_count": 20,
      "outputs": [
        {
          "output_type": "stream",
          "name": "stdout",
          "text": [
            "data type before : <class 'float'>, value of a : 22.4\n",
            "data type after : <class 'int'>, value of a : 22\n"
          ]
        }
      ]
    },
    {
      "cell_type": "code",
      "source": [
        "#interger to complex number \n",
        "a = 22\n",
        "print (f\"data type before : {type(a)}, value of a : {a}\")\n",
        "a = complex(a)\n",
        "print (f\"data type before : {type(a)}, value of a : {a}\")"
      ],
      "metadata": {
        "colab": {
          "base_uri": "https://localhost:8080/"
        },
        "id": "lu21rHyZKuui",
        "outputId": "d6891b21-95fe-4b85-df92-97e4b230242f"
      },
      "execution_count": 21,
      "outputs": [
        {
          "output_type": "stream",
          "name": "stdout",
          "text": [
            "data type before : <class 'int'>, value of a : 22\n",
            "data type before : <class 'complex'>, value of a : (22+0j)\n"
          ]
        }
      ]
    }
  ]
}