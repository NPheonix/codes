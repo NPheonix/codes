{
  "nbformat": 4,
  "nbformat_minor": 0,
  "metadata": {
    "colab": {
      "provenance": []
    },
    "kernelspec": {
      "name": "python3",
      "display_name": "Python 3"
    },
    "language_info": {
      "name": "python"
    }
  },
  "cells": [
    {
      "cell_type": "code",
      "execution_count": null,
      "metadata": {
        "id": "PxViG5D2oWls"
      },
      "outputs": [],
      "source": []
    },
    {
      "cell_type": "markdown",
      "source": [
        "Q1. **What is indentation error? Why indentation is important? Give one simple example?**"
      ],
      "metadata": {
        "id": "IeO4wWBPrvkV"
      }
    },
    {
      "cell_type": "markdown",
      "source": [
        "Answer 1. - Indention refers to the space at the begining of a code line. It is important in Python because in other languages the indentation is for readbility only, but the indentation in Python it uses as to indicate a block of code. "
      ],
      "metadata": {
        "id": "s4DSPF5EryWB"
      }
    },
    {
      "cell_type": "code",
      "source": [
        "#Example of indentation in Python \n",
        "\n",
        "a = 30\n",
        "b = 12\n",
        "if a > b: \n",
        "print (\" A is gretaer than B\") #wrong way to write the code in the Python (IndentationError: expected an indented block)"
      ],
      "metadata": {
        "id": "7NZIyKHDsz8S"
      },
      "execution_count": null,
      "outputs": []
    },
    {
      "cell_type": "code",
      "source": [
        "#correct way to write the block of a code. \n",
        "a = 30\n",
        "b = 12\n",
        "if a > b: \n",
        "  print (\" A is gretaer than B\")"
      ],
      "metadata": {
        "id": "ovnmrsetth86"
      },
      "execution_count": null,
      "outputs": []
    },
    {
      "cell_type": "markdown",
      "source": [
        "**Q2. Correct the following code and write the comment where you made the correction?**"
      ],
      "metadata": {
        "id": "nXZxip300zQi"
      }
    },
    {
      "cell_type": "code",
      "source": [
        "#I have changed the Boolean to Integer because in string the bool will always give the True value. \n",
        "class_started = bool(input(\"Hey friend, is class started?: [0-False/1-True]\")) \n",
        "\n",
        "if class_started:\n",
        "   print(\"Since class started...\")\n",
        "   print(\"Lets concentrate\")\n",
        "else:\n",
        "   print(\"Since class is not started...\")\n",
        "   print(\"let's revise\")"
      ],
      "metadata": {
        "id": "gLPyObuX02Jh"
      },
      "execution_count": null,
      "outputs": []
    },
    {
      "cell_type": "markdown",
      "source": [],
      "metadata": {
        "id": "DxH5V8T14uia"
      }
    },
    {
      "cell_type": "markdown",
      "source": [
        "**Q3. Use if else condition to verify that dataype of input() method in python is always string.**"
      ],
      "metadata": {
        "id": "L_KH2Y3y44Sa"
      }
    },
    {
      "cell_type": "code",
      "source": [
        "a = input(\"Enter the value of A : \")\n",
        "b = input(\"Enter the value of B : \")\n",
        "if (a>b):\n",
        "  print(\"A is a string\")\n",
        "  print(type(a))\n",
        "  print(type(b))\n",
        "\n",
        "else:\n",
        "  print\n",
        "  print(\"A is not a string\")\n",
        "  print(type(a))\n",
        "  print(type(b))"
      ],
      "metadata": {
        "id": "HsRWB44S3dJj"
      },
      "execution_count": null,
      "outputs": []
    },
    {
      "cell_type": "markdown",
      "source": [
        "**Q4. Take 3 variables and assign integer values to them. Find the largest variable, by only using the if and else conditions.**"
      ],
      "metadata": {
        "id": "EyZiv7ODnpCf"
      }
    },
    {
      "cell_type": "code",
      "source": [
        "#code for the largest variable \n",
        "a = int(input(\"Enter a number(A): \"))\n",
        "b = int(input(\"Enter a number(B): \"))\n",
        "c = int(input(\"Enter a number(C): \"))\n",
        "\n",
        "if a>b and a > c:\n",
        "    print (f\"A ({a}) is greater than B {b} and C ({c})\")\n",
        "elif b>a and b>c:\n",
        "    print (f\"B ({b}) is greater than A {b} and C ({c})\")\n",
        "else:\n",
        "    print (f\"C ({c}) is greater than B ({b}) and A ({a})\")"
      ],
      "metadata": {
        "colab": {
          "base_uri": "https://localhost:8080/"
        },
        "id": "wQDxW18jpu_1",
        "outputId": "19ec7a8e-8399-492f-becc-e2416cfc5af4"
      },
      "execution_count": 9,
      "outputs": [
        {
          "output_type": "stream",
          "name": "stdout",
          "text": [
            "Enter a number(A): 23\n",
            "Enter a number(B): 1\n",
            "Enter a number(C): 9\n",
            "A (23) is greater than B 1 and C 9\n"
          ]
        }
      ]
    },
    {
      "cell_type": "markdown",
      "source": [],
      "metadata": {
        "id": "R7vgrK-6qz3t"
      }
    },
    {
      "cell_type": "code",
      "source": [
        "# Ans 5.  The answer will be false.  \n",
        "a = 6\n",
        "b = 10\n",
        "print (not ( not a == 10 or not b == 10) ) "
      ],
      "metadata": {
        "colab": {
          "base_uri": "https://localhost:8080/"
        },
        "id": "Lt3qPjRWq_kH",
        "outputId": "ac179c8a-b503-49f8-ac0b-a5219ecc86f9"
      },
      "execution_count": 19,
      "outputs": [
        {
          "output_type": "stream",
          "name": "stdout",
          "text": [
            "False\n"
          ]
        }
      ]
    },
    {
      "cell_type": "markdown",
      "source": [
        "**Q6. Find the answer as well as find out the reason behind the result? -**"
      ],
      "metadata": {
        "id": "k8T4n0tNuUcU"
      }
    },
    {
      "cell_type": "code",
      "source": [
        "#case 1\n",
        "A = 5.0\n",
        "B = 10/2\n",
        "print (A is B) #the result is false because the id of both the variables are different or stored at the different location id(A) is 140634856103440 and id (B) is 140634855859600.\n",
        "               #Hence, the two variable does not belong to the same object.\n",
        "print(id(A))\n",
        "print(id(B))"
      ],
      "metadata": {
        "colab": {
          "base_uri": "https://localhost:8080/"
        },
        "id": "drRrU7FfuX3M",
        "outputId": "aaf3ab43-b019-4f29-fd76-3d0385e2f084"
      },
      "execution_count": 50,
      "outputs": [
        {
          "output_type": "stream",
          "name": "stdout",
          "text": [
            "False\n",
            "140634855620112\n",
            "140634855617296\n",
            "<class 'float'>\n"
          ]
        }
      ]
    },
    {
      "cell_type": "code",
      "source": [
        "#case 2\n",
        "A = 5.0\n",
        "B = int(10/2)\n",
        "print(A is B)  #the result is false because the data type of both the variables are different for A it is Float and for B it is an integer\n",
        "               #### Hence, the two variable does not belong to the same object.\n",
        "print (type(A))\n",
        "print (type(B))"
      ],
      "metadata": {
        "colab": {
          "base_uri": "https://localhost:8080/"
        },
        "id": "DszDZpd-yaRO",
        "outputId": "27fa0f13-f2a2-4a9e-e7b2-0f75fc6b2c64"
      },
      "execution_count": 48,
      "outputs": [
        {
          "output_type": "stream",
          "name": "stdout",
          "text": [
            "False\n",
            "<class 'float'>\n",
            "<class 'int'>\n"
          ]
        }
      ]
    },
    {
      "cell_type": "code",
      "source": [
        "#case 3 \n",
        "A = 5.0\n",
        "B = float(10/2) ### the result is false because the id of both the variables are different or stored at the different location id(A) is 140634855618064 and id (B) is 140634855620112. \n",
        "                ### Hence, the two variable does not belong to the same object.\n",
        "print(A is B)\n",
        "print(id(A))\n",
        "print(id(B))"
      ],
      "metadata": {
        "colab": {
          "base_uri": "https://localhost:8080/"
        },
        "id": "TVED5SthzDrK",
        "outputId": "dbd5319b-b777-46cc-b768-0f7182a90aa0"
      },
      "execution_count": 58,
      "outputs": [
        {
          "output_type": "stream",
          "name": "stdout",
          "text": [
            "False\n"
          ]
        }
      ]
    },
    {
      "cell_type": "markdown",
      "source": [
        "**Q7. Write a program that asks the user to enter a number. You should print out a message to the user, either “That number is divisible by either 3 or 5”, or “That number is not divisible by either 3 or 5”. Be sure to consider the data type of the input you are taking in from the user. Use a single if/else block to solve this problem.**"
      ],
      "metadata": {
        "id": "94655oxq7glY"
      }
    },
    {
      "cell_type": "code",
      "source": [
        "#program to check whether the number is divisible by 3 and 5 or not\n",
        "number = int(input(\"Enter any Positive integer: \"))\n",
        "if ((number%5 == 0) and (number%3 == 0)): \n",
        "    print(f\" Given number {number} is divsible by 3 and 5\")\n",
        "else:\n",
        "    print(f\" Given number {number} is not divsible by 3 and 5\")"
      ],
      "metadata": {
        "colab": {
          "base_uri": "https://localhost:8080/"
        },
        "id": "Arlhd7JM7kQh",
        "outputId": "ba2146c7-fe1d-4305-abda-55f5ae02b746"
      },
      "execution_count": null,
      "outputs": [
        {
          "output_type": "stream",
          "name": "stdout",
          "text": [
            "Enter any Positive integer: 15\n",
            " Given number 15 is divsible by 3 and 5\n"
          ]
        }
      ]
    },
    {
      "cell_type": "markdown",
      "source": [
        "**Q8. Take user input for length and width. Then calculate the area of rectangle. Also print as per length and width whether its a square of rectangle.**"
      ],
      "metadata": {
        "id": "EhG70g1h_U2X"
      }
    },
    {
      "cell_type": "code",
      "source": [
        "#program to calculate the araea of a rectangle \n",
        "length = int(input(\"Enter the lngth of the rectangle: \"))\n",
        "width = int(input(\"Enter the width of the rectangle: \"))\n",
        "area_of_rectangle = length * width\n",
        "if length == width:\n",
        "  #length and width are same\n",
        "    print (f\"It's a square of the rectangle and the area is {area_of_rectangle}.\")\n",
        "else:\n",
        "    print (f\"It's not a sqaure of the rectagle and the area is {area_of_rectangle}.\")"
      ],
      "metadata": {
        "colab": {
          "base_uri": "https://localhost:8080/"
        },
        "id": "NQxcjAcl_Xsy",
        "outputId": "7d3e4dff-d877-4fd7-8fea-6849853961b3"
      },
      "execution_count": null,
      "outputs": [
        {
          "output_type": "stream",
          "name": "stdout",
          "text": [
            "Enter the lngth of the rectangle: 5\n",
            "Enter the width of the rectangle: 5\n",
            "It's a square of the rectangle and the area is 25\n"
          ]
        }
      ]
    },
    {
      "cell_type": "markdown",
      "source": [
        "**Q9. Take two variable radius_1 and radius_2 and calculate the area of circle_1 and circle_2. Also print which circle has large area. If area is equal then print area is equal.**"
      ],
      "metadata": {
        "id": "-jOlEhdJCvrn"
      }
    },
    {
      "cell_type": "code",
      "source": [
        "#program to calculate the area of a circle. \n",
        "radius_1 = float(input(\"Enter the radius of the circle_1: \"))\n",
        "radius_2 = float(input(\"Enter the radius of the circle_2: \"))\n",
        "pie = 3.14\n",
        "area_of_circle_1 = float(pie*radius_1*radius_1)\n",
        "area_of_circle_2 = float(pie*radius_2*radius_2)\n",
        "\n",
        "print(f\"The area of the Circle 1 is {area_of_circle_1}\")\n",
        "print(f\"The area of the Circle 2 is {area_of_circle_2}\")\n",
        "\n",
        "if area_of_circle_1 > area_of_circle_2:\n",
        "    print (\"Area of circle 1 is greater than the area of circle 2\")\n",
        "elif area_of_circle_2 > area_of_circle_1:\n",
        "    print (\"Area of circle 2 is greater than the area of circle 1\")\n",
        "else:\n",
        "    print (\"Both the areas are equal\")\n",
        "\n",
        " "
      ],
      "metadata": {
        "id": "SwlXOyfMC7M4"
      },
      "execution_count": null,
      "outputs": []
    },
    {
      "cell_type": "markdown",
      "source": [
        "**Q10. Check whether a year is leap year or not. Use nested if...else to solve this problem. A leap year is exactly divisible by 4 except for century years (years ending with 00). The century year is a leap year only if it is perfectly divisible by 400.**\n"
      ],
      "metadata": {
        "id": "WfvrLrArUo-F"
      }
    },
    {
      "cell_type": "code",
      "source": [
        "#program for the leap year\n",
        "year = int(input(\"Enter the year to be checked: \"))\n",
        "if (year % 4) == 0:\n",
        "    if (year % 100) == 0:\n",
        "        if (year % 400) == 0:\n",
        "            print(\"The year is a leap year!\")\n",
        "        else:\n",
        "            print(\"The year is a not leap year!\")\n",
        "    else:\n",
        "        print(\"The year is a leap year!\")\n",
        "else:\n",
        "    print(\"The year is not a leap year!\")"
      ],
      "metadata": {
        "id": "rLwi0M4AUwsk"
      },
      "execution_count": null,
      "outputs": []
    }
  ]
}